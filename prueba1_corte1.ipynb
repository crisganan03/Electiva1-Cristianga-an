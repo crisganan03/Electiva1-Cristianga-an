{
  "nbformat": 4,
  "nbformat_minor": 0,
  "metadata": {
    "colab": {
      "provenance": [],
      "authorship_tag": "ABX9TyOExwAMst2M7+NiPdvlPEYl",
      "include_colab_link": true
    },
    "kernelspec": {
      "name": "python3",
      "display_name": "Python 3"
    },
    "language_info": {
      "name": "python"
    }
  },
  "cells": [
    {
      "cell_type": "markdown",
      "metadata": {
        "id": "view-in-github",
        "colab_type": "text"
      },
      "source": [
        "<a href=\"https://colab.research.google.com/github/crisganan03/Electiva1-Cristianga-an/blob/main/prueba1_corte1.ipynb\" target=\"_parent\"><img src=\"https://colab.research.google.com/assets/colab-badge.svg\" alt=\"Open In Colab\"/></a>"
      ]
    },
    {
      "cell_type": "code",
      "execution_count": null,
      "metadata": {
        "id": "XHnRjTdJ85Ka"
      },
      "outputs": [],
      "source": [
        "lista = [5,4,3.5,3,5,4.5,4.8,5,5,5,4.3,3.1]"
      ]
    },
    {
      "cell_type": "code",
      "source": [
        "#sincronizar cambios nuevos"
      ],
      "metadata": {
        "id": "54jthuXzBkrB"
      },
      "execution_count": null,
      "outputs": []
    },
    {
      "cell_type": "code",
      "source": [
        "#ejemplo diccionario\n",
        "\n",
        "mi_diccionario = {'123456':'Cristian Gañan','567890':'Juan Perez'}\n",
        "otro_diccionario = {1:[1,2,3,4,5],\n",
        "                    2:[5,6,7,8,9],\n",
        "                    3:{1:2,2:3}}\n",
        "\n",
        "mi_diccionario['123456']"
      ],
      "metadata": {
        "colab": {
          "base_uri": "https://localhost:8080/",
          "height": 35
        },
        "id": "eksNBxcOD8Zc",
        "outputId": "4547cb13-2658-4e81-904f-b4ed728fa60e"
      },
      "execution_count": 6,
      "outputs": [
        {
          "output_type": "execute_result",
          "data": {
            "text/plain": [
              "'Cristian Gañan'"
            ],
            "application/vnd.google.colaboratory.intrinsic+json": {
              "type": "string"
            }
          },
          "metadata": {},
          "execution_count": 6
        }
      ]
    },
    {
      "cell_type": "code",
      "source": [
        "otro_diccionario[2]"
      ],
      "metadata": {
        "colab": {
          "base_uri": "https://localhost:8080/"
        },
        "id": "30cpG6TBE7Xj",
        "outputId": "29be5463-9501-4c60-b4e2-bbc100a91a05"
      },
      "execution_count": 7,
      "outputs": [
        {
          "output_type": "execute_result",
          "data": {
            "text/plain": [
              "[5, 6, 7, 8, 9]"
            ]
          },
          "metadata": {},
          "execution_count": 7
        }
      ]
    },
    {
      "cell_type": "code",
      "source": [
        "otro_diccionario[3][2]\n",
        "#para sacar un elemento de lista dentro de una lista se hacen los corchetes cuadrados"
      ],
      "metadata": {
        "colab": {
          "base_uri": "https://localhost:8080/"
        },
        "id": "cAOlY8ayGknX",
        "outputId": "cae7775f-75f1-4540-dba2-410590534de8"
      },
      "execution_count": 15,
      "outputs": [
        {
          "output_type": "execute_result",
          "data": {
            "text/plain": [
              "3"
            ]
          },
          "metadata": {},
          "execution_count": 15
        }
      ]
    },
    {
      "cell_type": "code",
      "source": [
        "#ejercicio de clase\n",
        "diccionario_complejo = { 1 : [1,2,3,4,5,[5,6,7,8,9,[6,7,8]]],\n",
        "2: [5,6,7,8,9],\n",
        "3: {1:2,2:3,6:[9,10,'extraer este valor']}\n",
        "}\n",
        "#extraer este valor y 8\n",
        "diccionario_complejo[3][6][2]"
      ],
      "metadata": {
        "colab": {
          "base_uri": "https://localhost:8080/",
          "height": 35
        },
        "id": "85gqpsHqHZ8T",
        "outputId": "9049789d-351a-4bdf-fe31-f23b2b73367c"
      },
      "execution_count": 25,
      "outputs": [
        {
          "output_type": "execute_result",
          "data": {
            "text/plain": [
              "'extraer este valor'"
            ],
            "application/vnd.google.colaboratory.intrinsic+json": {
              "type": "string"
            }
          },
          "metadata": {},
          "execution_count": 25
        }
      ]
    },
    {
      "cell_type": "code",
      "source": [
        "diccionario_complejo[1][5][5][2]"
      ],
      "metadata": {
        "colab": {
          "base_uri": "https://localhost:8080/"
        },
        "id": "hHrs4-mAISo2",
        "outputId": "498a821b-efbf-447c-9c27-3a078d90c8c5"
      },
      "execution_count": 26,
      "outputs": [
        {
          "output_type": "execute_result",
          "data": {
            "text/plain": [
              "8"
            ]
          },
          "metadata": {},
          "execution_count": 26
        }
      ]
    },
    {
      "cell_type": "code",
      "source": [
        "estudiantes = {\"santiago\":{\"edad\":18,\"semestre\":6},\n",
        "            \"nicolas\":{\"edad\":16,\"semestre\":9}}\n",
        "#condicional if-else\n",
        "if estudiantes[\"santiago\"][\"edad\"] >=18:\n",
        "  print(\"es mayor de edad\")\n",
        "else:\n",
        "  print(\"es menor de edad\")\n",
        "\n",
        ""
      ],
      "metadata": {
        "id": "aCTQhds8JvpY",
        "outputId": "5e26e42e-8f2c-4568-c9d8-5abb3c89afc5",
        "colab": {
          "base_uri": "https://localhost:8080/"
        }
      },
      "execution_count": 37,
      "outputs": [
        {
          "output_type": "stream",
          "name": "stdout",
          "text": [
            "es mayor de edad\n"
          ]
        }
      ]
    }
  ]
}