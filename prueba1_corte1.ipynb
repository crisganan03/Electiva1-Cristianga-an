{
  "nbformat": 4,
  "nbformat_minor": 0,
  "metadata": {
    "colab": {
      "provenance": [],
      "authorship_tag": "ABX9TyPpuHD1IeltyHLb4OIVVwH1",
      "include_colab_link": true
    },
    "kernelspec": {
      "name": "python3",
      "display_name": "Python 3"
    },
    "language_info": {
      "name": "python"
    }
  },
  "cells": [
    {
      "cell_type": "markdown",
      "metadata": {
        "id": "view-in-github",
        "colab_type": "text"
      },
      "source": [
        "<a href=\"https://colab.research.google.com/github/crisganan03/Electiva1-Cristianga-an/blob/main/prueba1_corte1.ipynb\" target=\"_parent\"><img src=\"https://colab.research.google.com/assets/colab-badge.svg\" alt=\"Open In Colab\"/></a>"
      ]
    },
    {
      "cell_type": "code",
      "execution_count": null,
      "metadata": {
        "id": "XHnRjTdJ85Ka"
      },
      "outputs": [],
      "source": [
        "lista = [5,4,3.5,3,5,4.5,4.8,5,5,5,4.3,3.1]"
      ]
    },
    {
      "cell_type": "code",
      "source": [
        "#sincronizar cambios nuevos"
      ],
      "metadata": {
        "id": "54jthuXzBkrB"
      },
      "execution_count": null,
      "outputs": []
    },
    {
      "cell_type": "code",
      "source": [
        "#ejemplo diccionario\n",
        "\n",
        "mi_diccionario = {'123456':'Cristian Gañan','567890':'Juan Perez'}\n",
        "otro_diccionario = {1:[1,2,3,4,5],\n",
        "                    2:[5,6,7,8,9],\n",
        "                    3:{1:2,2:3}}\n",
        "\n",
        "mi_diccionario['123456']"
      ],
      "metadata": {
        "id": "eksNBxcOD8Zc",
        "outputId": "4547cb13-2658-4e81-904f-b4ed728fa60e",
        "colab": {
          "base_uri": "https://localhost:8080/",
          "height": 35
        }
      },
      "execution_count": 6,
      "outputs": [
        {
          "output_type": "execute_result",
          "data": {
            "text/plain": [
              "'Cristian Gañan'"
            ],
            "application/vnd.google.colaboratory.intrinsic+json": {
              "type": "string"
            }
          },
          "metadata": {},
          "execution_count": 6
        }
      ]
    },
    {
      "cell_type": "code",
      "source": [
        "otro_diccionario[2]"
      ],
      "metadata": {
        "id": "30cpG6TBE7Xj",
        "outputId": "29be5463-9501-4c60-b4e2-bbc100a91a05",
        "colab": {
          "base_uri": "https://localhost:8080/"
        }
      },
      "execution_count": 7,
      "outputs": [
        {
          "output_type": "execute_result",
          "data": {
            "text/plain": [
              "[5, 6, 7, 8, 9]"
            ]
          },
          "metadata": {},
          "execution_count": 7
        }
      ]
    }
  ]
}